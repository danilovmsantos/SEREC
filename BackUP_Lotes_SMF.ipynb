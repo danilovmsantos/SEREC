{
 "cells": [
  {
   "cell_type": "code",
   "execution_count": 75,
   "metadata": {},
   "outputs": [],
   "source": [
    "from arcgis.features import FeatureLayer"
   ]
  },
  {
   "cell_type": "code",
   "execution_count": 76,
   "metadata": {},
   "outputs": [],
   "source": [
    "import datetime"
   ]
  },
  {
   "cell_type": "code",
   "execution_count": 77,
   "metadata": {},
   "outputs": [],
   "source": [
    "import csv"
   ]
  },
  {
   "cell_type": "code",
   "execution_count": 78,
   "metadata": {},
   "outputs": [],
   "source": [
    "import os"
   ]
  },
  {
   "cell_type": "code",
   "execution_count": 79,
   "metadata": {},
   "outputs": [],
   "source": [
    "import pandas as pd"
   ]
  },
  {
   "cell_type": "code",
   "execution_count": 80,
   "metadata": {},
   "outputs": [],
   "source": [
    "from geopandas.tools import sjoin"
   ]
  },
  {
   "cell_type": "code",
   "execution_count": 81,
   "metadata": {},
   "outputs": [],
   "source": [
    "import geopandas as gpd"
   ]
  },
  {
   "cell_type": "code",
   "execution_count": 82,
   "metadata": {},
   "outputs": [],
   "source": [
    "from shapely.geometry import Point"
   ]
  },
  {
   "cell_type": "code",
   "execution_count": 83,
   "metadata": {},
   "outputs": [],
   "source": [
    "import pyproj"
   ]
  },
  {
   "cell_type": "code",
   "execution_count": 84,
   "metadata": {},
   "outputs": [],
   "source": [
    "from pyproj import Transformer"
   ]
  },
  {
   "cell_type": "code",
   "execution_count": 85,
   "metadata": {},
   "outputs": [],
   "source": [
    "camada_lotes = \"https://sig.niteroi.rj.gov.br/server/rest/services/Hosted/NPG_SMF_SEREC_A_LOTES_EDIFIC/FeatureServer/30\""
   ]
  },
  {
   "cell_type": "code",
   "execution_count": 86,
   "metadata": {},
   "outputs": [],
   "source": [
    "limite_bairros= r'T:\\RECAD\\BACKUPlotes\\shp\\limite_bairros_niteroi_wgs.shp'"
   ]
  },
  {
   "cell_type": "code",
   "execution_count": 87,
   "metadata": {},
   "outputs": [],
   "source": [
    "bairros_gdf = gpd.read_file(limite_bairros, encoding='ISO-8859-1')"
   ]
  },
  {
   "cell_type": "code",
   "execution_count": 88,
   "metadata": {},
   "outputs": [],
   "source": [
    "transformer = Transformer.from_crs(\"epsg:31983\", \"epsg:4326\", always_xy=True)"
   ]
  },
  {
   "cell_type": "code",
   "execution_count": 89,
   "metadata": {},
   "outputs": [],
   "source": [
    "def convert_utm_to_gcs(x, y):\n",
    "    try:\n",
    "        lon, lat = transformer.transform(float(x), float(y))\n",
    "        return lon, lat\n",
    "    except (ValueError, TypeError):\n",
    "        return None, None"
   ]
  },
  {
   "cell_type": "code",
   "execution_count": 90,
   "metadata": {},
   "outputs": [],
   "source": [
    "query = f\"last_edited_date >= TIMESTAMP '{datetime.date.today() - datetime.timedelta(days=0)}'\""
   ]
  },
  {
   "cell_type": "code",
   "execution_count": 91,
   "metadata": {},
   "outputs": [],
   "source": [
    "campos = [\"tx_insct\", \"tx_loteabrev\", \"tx_nroproc\", \"tx_observ\", \"tx_logrado\", \"si_nroport\", \"tx_complem\", \"tx_quadraloc\", \"tx_loteloc\", \"tx_loteame\", \"tx_bairro\", \"db_v0\", \"tx_arealote\", \"tx_a_constr\", \"tx_nmfrente\", \"tx_testadap\", \"tx_nmprop\", \"dt_datareg\", \"si_livrode\", \"tx_rgi\", \"db_coordx\", \"db_coordy\", \"tx_streetview\", \"tx_faststreet\", \"tx_tipo_lo\", \"SHAPE__Length\", \"SHAPE__Area\", \"created_user\", \"created_date\", \"last_edited_user\", \"last_edited_date\"]"
   ]
  },
  {
   "cell_type": "code",
   "execution_count": 92,
   "metadata": {},
   "outputs": [],
   "source": [
    "caminho_csv = r\"T:\\RECAD\\BACKUPlotes\\BackupLOTESSMF.csv\""
   ]
  },
  {
   "cell_type": "code",
   "execution_count": 93,
   "metadata": {},
   "outputs": [],
   "source": [
    "tx_insct_index = campos.index('tx_insct')"
   ]
  },
  {
   "cell_type": "code",
   "execution_count": 94,
   "metadata": {},
   "outputs": [],
   "source": [
    "last_edited_date_index = campos.index('last_edited_date')"
   ]
  },
  {
   "cell_type": "code",
   "execution_count": 95,
   "metadata": {},
   "outputs": [],
   "source": [
    "entradas_existentes = set()"
   ]
  },
  {
   "cell_type": "code",
   "execution_count": 96,
   "metadata": {},
   "outputs": [],
   "source": [
    "contagem_datas = {}"
   ]
  },
  {
   "cell_type": "code",
   "execution_count": 97,
   "metadata": {},
   "outputs": [],
   "source": [
    "with open(caminho_csv, 'r', newline='', encoding='ISO-8859-1') as file:\n",
    "    reader = csv.reader(file, delimiter='$')\n",
    "    next(reader)\n",
    "    for row in reader:\n",
    "        if len(row) > max(tx_insct_index, last_edited_date_index):\n",
    "            chave = (row[tx_insct_index], row[last_edited_date_index])\n",
    "            entradas_existentes.add(chave)\n",
    "            data_edicao = row[last_edited_date_index]\n",
    "            if data_edicao in contagem_datas:\n",
    "                contagem_datas[data_edicao] += 1\n",
    "            else:\n",
    "                contagem_datas[data_edicao] = 1"
   ]
  },
  {
   "cell_type": "code",
   "execution_count": 98,
   "metadata": {},
   "outputs": [],
   "source": [
    "with open(caminho_csv, 'a', newline='', encoding='ISO-8859-1') as file:\n",
    "    escritor = csv.writer(file, delimiter='$')\n",
    "    with arcpy.da.SearchCursor(camada_lotes, campos, where_clause=query) as cursor:\n",
    "        for row in cursor:\n",
    "            x_utm, y_utm = row[campos.index('db_coordx')], row[campos.index('db_coordy')]\n",
    "            lon, lat = convert_utm_to_gcs(x_utm, y_utm)\n",
    "            if lon is not None and lat is not None:\n",
    "                point = gpd.GeoDataFrame([{'geometry': Point(lon, lat)}], crs='EPSG:4326')\n",
    "                point_in_bairro = sjoin(point, bairros_gdf, how=\"left\", predicate='within')\n",
    "                bairro_name = point_in_bairro.iloc[0]['tx_nome'] if not point_in_bairro.empty else None\n",
    "                row_modificado = [str(campo).strip() for campo in row]\n",
    "                row_modificado[campos.index('db_coordx')] = lon\n",
    "                row_modificado[campos.index('db_coordy')] = lat\n",
    "                row_modificado[campos.index('tx_bairro')] = bairro_name\n",
    "                chave_entrada = (row[tx_insct_index], row[last_edited_date_index])\n",
    "                data_edicao = row[last_edited_date_index]\n",
    "                if chave_entrada not in entradas_existentes and contagem_datas.get(data_edicao, 0) <= 10000:\n",
    "                    escritor.writerow(row_modificado)\n",
    "                    entradas_existentes.add(chave_entrada)\n",
    "                    contagem_datas[data_edicao] = contagem_datas.get(data_edicao, 0) + 1"
   ]
  }
 ],
 "metadata": {
  "kernelspec": {
   "display_name": "ArcGISPro",
   "language": "Python",
   "name": "python3"
  },
  "language_info": {
   "file_extension": ".py",
   "name": "python",
   "version": "3"
  },
  "toc": {
   "base_numbering": 1,
   "nav_menu": {},
   "number_sections": true,
   "sideBar": true,
   "skip_h1_title": false,
   "title_cell": "Table of Contents",
   "title_sidebar": "Contents",
   "toc_cell": false,
   "toc_position": {},
   "toc_section_display": true,
   "toc_window_display": false
  }
 },
 "nbformat": 4,
 "nbformat_minor": 2
}
